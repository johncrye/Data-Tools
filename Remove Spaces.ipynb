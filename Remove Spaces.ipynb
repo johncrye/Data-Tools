{
 "cells": [
  {
   "cell_type": "code",
   "execution_count": 64,
   "id": "f40153e5-a62d-4b90-821e-98f58310bca7",
   "metadata": {},
   "outputs": [],
   "source": [
    "import re\n",
    "\n",
    "def remove_multiple_spaces(string):\n",
    "    # Use regular expression to replace multiple spaces with a single space\n",
    "    return re.sub(r\"\\s+\", \" \", string)"
   ]
  },
  {
   "cell_type": "code",
   "execution_count": 65,
   "id": "06ff91b1-0f42-4ed7-b211-55ab4155580b",
   "metadata": {},
   "outputs": [],
   "source": [
    "string = \"Population density (people per sq. km of land area)        -9.558e-05      0.001     -0.155      0.877      -0.001       0.001\"\n"
   ]
  },
  {
   "cell_type": "code",
   "execution_count": 66,
   "id": "fad1c60d-78a7-42ed-b2a2-7e7b10b79362",
   "metadata": {
    "tags": []
   },
   "outputs": [
    {
     "name": "stdout",
     "output_type": "stream",
     "text": [
      "Population density (people per sq. km of land area) -9.558e-05 0.001 -0.155 0.877 -0.001 0.001\n"
     ]
    }
   ],
   "source": [
    "print(remove_multiple_spaces(string))"
   ]
  },
  {
   "cell_type": "code",
   "execution_count": 67,
   "id": "0c946ae0-c44f-4e28-83ec-d14ed635622a",
   "metadata": {
    "tags": []
   },
   "outputs": [
    {
     "data": {
      "text/plain": [
       "'Population, density, (people, per, sq., km, of, land, area), -9.558e-05, 0.001, -0.155, 0.877, -0.001, 0.001'"
      ]
     },
     "execution_count": 67,
     "metadata": {},
     "output_type": "execute_result"
    }
   ],
   "source": [
    "def separate_with_commas(string):\n",
    "    # Split the string into a list of words\n",
    "    words = string.split()\n",
    "    \n",
    "    # Join the words with commas\n",
    "    return \", \".join(words)\n",
    "\n",
    "outp = separate_with_commas(string)\n",
    "outp\n"
   ]
  },
  {
   "cell_type": "code",
   "execution_count": 68,
   "id": "04868dab-f16f-44eb-8fb6-fd8fa2a16643",
   "metadata": {},
   "outputs": [],
   "source": [
    "import openpyxl\n",
    "\n",
    "def create_excel_workbook(outp):\n",
    "    # Create a new workbook\n",
    "    wb = openpyxl.Workbook()\n",
    "    sheet = wb.active\n",
    "    \n",
    "    # Split the string into a list of words\n",
    "    words = outp.split(\", \")\n",
    "    \n",
    "    # Paste the words into separate cells\n",
    "    for i, word in enumerate(words):\n",
    "        cell = sheet.cell(row=1, column=i+1)\n",
    "        cell.value = word\n",
    "    \n",
    "    # Save the workbook\n",
    "    wb.save(\"output.xlsx\")\n",
    "\n",
    "# Test the function\n",
    "\n",
    "create_excel_workbook(outp)"
   ]
  }
 ],
 "metadata": {
  "kernelspec": {
   "display_name": "Python 3 (ipykernel)",
   "language": "python",
   "name": "python3"
  },
  "language_info": {
   "codemirror_mode": {
    "name": "ipython",
    "version": 3
   },
   "file_extension": ".py",
   "mimetype": "text/x-python",
   "name": "python",
   "nbconvert_exporter": "python",
   "pygments_lexer": "ipython3",
   "version": "3.9.13"
  }
 },
 "nbformat": 4,
 "nbformat_minor": 5
}
